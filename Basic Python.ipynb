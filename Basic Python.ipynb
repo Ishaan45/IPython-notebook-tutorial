{
 "cells": [
  {
   "cell_type": "markdown",
   "metadata": {},
   "source": [
    "# Importing libraries "
   ]
  },
  {
   "cell_type": "code",
   "execution_count": 1,
   "metadata": {
    "collapsed": true
   },
   "outputs": [],
   "source": [
    "#imports the math library \n",
    "import math\n",
    "import numpy as np"
   ]
  },
  {
   "cell_type": "code",
   "execution_count": 2,
   "metadata": {},
   "outputs": [
    {
     "data": {
      "text/plain": [
       "1953125.0"
      ]
     },
     "execution_count": 2,
     "metadata": {},
     "output_type": "execute_result"
    }
   ],
   "source": [
    "math.pow(5,9)"
   ]
  },
  {
   "cell_type": "code",
   "execution_count": 3,
   "metadata": {},
   "outputs": [
    {
     "data": {
      "text/plain": [
       "5"
      ]
     },
     "execution_count": 3,
     "metadata": {},
     "output_type": "execute_result"
    }
   ],
   "source": [
    "# Adds two elements of the list\n",
    "a= [2,3]\n",
    "c=np.sum(a)\n",
    "c"
   ]
  },
  {
   "cell_type": "markdown",
   "metadata": {},
   "source": [
    "# Data types"
   ]
  },
  {
   "cell_type": "code",
   "execution_count": 4,
   "metadata": {},
   "outputs": [
    {
     "name": "stdout",
     "output_type": "stream",
     "text": [
      "<class 'float'>\n",
      "<class 'str'>\n",
      "<class 'bool'>\n"
     ]
    }
   ],
   "source": [
    "#prints the nameof the data type for particular value\n",
    "print(type(7.8))\n",
    "print(type('amazing'))\n",
    "print(type(True))"
   ]
  },
  {
   "cell_type": "markdown",
   "metadata": {},
   "source": [
    "# Conditional Statements"
   ]
  },
  {
   "cell_type": "code",
   "execution_count": 5,
   "metadata": {},
   "outputs": [
    {
     "name": "stdout",
     "output_type": "stream",
     "text": [
      "best\n"
     ]
    }
   ],
   "source": [
    "x=7\n",
    "if   x<5:\n",
    "    print('good')\n",
    "elif x==0: \n",
    "    print('better')\n",
    "else:\n",
    "    print('best')"
   ]
  },
  {
   "cell_type": "markdown",
   "metadata": {},
   "source": [
    "# Lists(Mutable)"
   ]
  },
  {
   "cell_type": "code",
   "execution_count": 6,
   "metadata": {},
   "outputs": [
    {
     "name": "stdout",
     "output_type": "stream",
     "text": [
      "Audi\n",
      "lenght of the list is : 5\n",
      "The appended list is : ['Audi', 'BMW', 'Mercedes', 'RollsRoyce', 'Limo']\n"
     ]
    }
   ],
   "source": [
    "Cars = ['Audi','BMW','Mercedes','RollsRoyce','Jaguar']\n",
    "\n",
    "##List Modification\n",
    "\n",
    "# Prints the 0th index element of the list\n",
    "print(Cars[0])\n",
    "# Prints the length of the list\n",
    "print(\"lenght of the list is :\" , len(Cars))\n",
    "# Appends the current list with a new element at last position\n",
    "Cars.append(\"Limo\")\n",
    "# Removes an element from the list\n",
    "Cars.remove('Jaguar')\n",
    "print(\"The appended list is :\",Cars)\n"
   ]
  },
  {
   "cell_type": "code",
   "execution_count": 7,
   "metadata": {},
   "outputs": [
    {
     "name": "stdout",
     "output_type": "stream",
     "text": [
      "['Audi', 'BMW']\n",
      "['Audi', 'Mercedes', 'Limo']\n",
      "['Limo', 'RollsRoyce', 'Mercedes', 'BMW', 'Audi']\n"
     ]
    }
   ],
   "source": [
    "##List slicing\n",
    "\n",
    "# This operation slices the list from 0th index position to 2nd index position\n",
    "print(Cars[0:2])\n",
    "# This operation slices the list from 0th position to 5th position but with a stride of 2\n",
    "print(Cars[0:5:2])\n",
    "# This operation prints the complete list backwards\n",
    "print(Cars[::-1])"
   ]
  },
  {
   "cell_type": "code",
   "execution_count": 8,
   "metadata": {},
   "outputs": [
    {
     "data": {
      "text/plain": [
       "['Audi', 'BMW', 'Limo', 'Mercedes', 'RollsRoyce']"
      ]
     },
     "execution_count": 8,
     "metadata": {},
     "output_type": "execute_result"
    }
   ],
   "source": [
    "##List sorting\n",
    "\n",
    "#This operation sorts the list in alphabetical order and the sorted command returns the sorted list.\n",
    "Cars.sort()\n",
    "sorted(Cars)"
   ]
  },
  {
   "cell_type": "code",
   "execution_count": 9,
   "metadata": {},
   "outputs": [
    {
     "data": {
      "text/plain": [
       "['RollsRoyce', 'Mercedes', 'Limo', 'BMW', 'Audi']"
      ]
     },
     "execution_count": 9,
     "metadata": {},
     "output_type": "execute_result"
    }
   ],
   "source": [
    "# This operation sorts the list in reverse order\n",
    "Cars.sort(reverse=True)\n",
    "sorted(Cars, reverse=True)"
   ]
  },
  {
   "cell_type": "markdown",
   "metadata": {},
   "source": [
    "# Tuples(Immutable)"
   ]
  },
  {
   "cell_type": "code",
   "execution_count": 10,
   "metadata": {},
   "outputs": [
    {
     "name": "stdout",
     "output_type": "stream",
     "text": [
      "('zero', 1, 'two', 3)\n",
      "4\n",
      "3\n"
     ]
    }
   ],
   "source": [
    "digits = (\"zero\",1,\"two\",3)\n",
    "print(digits)\n",
    "print(len(digits))\n",
    "print(digits[3])"
   ]
  },
  {
   "cell_type": "markdown",
   "metadata": {},
   "source": [
    "# Strings(Immutable)"
   ]
  },
  {
   "cell_type": "code",
   "execution_count": 11,
   "metadata": {},
   "outputs": [
    {
     "name": "stdout",
     "output_type": "stream",
     "text": [
      "data science is fun\n",
      "DATA SCIENCE IS FUN\n",
      "13\n",
      "-1\n",
      "Data Science is an art\n",
      "['Data', 'Science', 'is', 'fun']\n"
     ]
    }
   ],
   "source": [
    "s = 'Data Science is fun'\n",
    "\n",
    "print(s.lower())                 #converts the string to lowercase \n",
    "print(s.upper())                 #converts the string to uppercase\n",
    "print(s.find('is'))              # finds the index of first occurence\n",
    "print(s.find('are'))             # returs -1 if the element is not found\n",
    "print(s.replace('fun','an art')) # replaces the current element with a new element\n",
    "print(s.split())                 # splits the string into sub-strings seperarted by a delimiter"
   ]
  },
  {
   "cell_type": "markdown",
   "metadata": {},
   "source": [
    "# Dictionaries(Mutable)"
   ]
  },
  {
   "cell_type": "code",
   "execution_count": 12,
   "metadata": {},
   "outputs": [
    {
     "name": "stdout",
     "output_type": "stream",
     "text": [
      "{'1': 'SVM', '2': 'KNN', '3': 'Genetic', '4': 'DBSCAN'}\n",
      "{'apples': 2, 'oranges': 4, 'bananas': 5, 'pineapple': 7}\n"
     ]
    }
   ],
   "source": [
    "#  For creating a dictionary there are two ways\n",
    "\n",
    "Algo = {'1':'SVM', '2':'KNN', '3':'Genetic','4':'DBSCAN'}\n",
    "Inventory = dict(apples = 2,oranges = 4,bananas = 5,pineapple = 7)\n",
    "print(Algo)\n",
    "print(Inventory)"
   ]
  },
  {
   "cell_type": "code",
   "execution_count": 13,
   "metadata": {},
   "outputs": [
    {
     "name": "stdout",
     "output_type": "stream",
     "text": [
      "4\n",
      "SVM\n",
      "dict_keys(['1', '2', '3', '4'])\n",
      "dict_values(['SVM', 'KNN', 'Genetic', 'DBSCAN'])\n"
     ]
    }
   ],
   "source": [
    "# Examining a dictionary\n",
    "\n",
    "print(len(Algo))     # length of the dictionary\n",
    "print(Algo['1'])     # returns the value corrosponding to the key\n",
    "print(Algo.keys())   # returns all the keys of the dictionary Algo\n",
    "print(Algo.values()) # returns all the values of the dictionary Algo"
   ]
  },
  {
   "cell_type": "code",
   "execution_count": 14,
   "metadata": {},
   "outputs": [
    {
     "name": "stdout",
     "output_type": "stream",
     "text": [
      "{'apples': 2, 'oranges': 4, 'bananas': 5, 'pineapple': 7, 'peach': 8}\n",
      "{'apples': 2, 'oranges': 4, 'bananas': 5, 'pineapple': 7}\n"
     ]
    }
   ],
   "source": [
    "# Modifiying a dictionary\n",
    "\n",
    "Inventory['peach'] = 8  # adds the key peach to the dictionary and editig the same entry can also be done using same command\n",
    "print(Inventory)\n",
    "\n",
    "del Inventory['peach']  # delets the entry from the dictionary\n",
    "print(Inventory)"
   ]
  },
  {
   "cell_type": "markdown",
   "metadata": {},
   "source": [
    "# Functions"
   ]
  },
  {
   "cell_type": "code",
   "execution_count": 15,
   "metadata": {},
   "outputs": [
    {
     "data": {
      "text/plain": [
       "(5, 0)"
      ]
     },
     "execution_count": 15,
     "metadata": {},
     "output_type": "execute_result"
    }
   ],
   "source": [
    "#defining a function with one argument and returning two values\n",
    "\n",
    "def minmax_nums(nums):          #creates a function named minmax_nums\n",
    "    return max(nums),min(nums)  #returns the max and min values of the list nums\n",
    "\n",
    "nums = [0,1,3,5]\n",
    "minmax_nums(nums)\n"
   ]
  },
  {
   "cell_type": "markdown",
   "metadata": {},
   "source": [
    "# Loops"
   ]
  },
  {
   "cell_type": "code",
   "execution_count": 16,
   "metadata": {},
   "outputs": [
    {
     "name": "stdout",
     "output_type": "stream",
     "text": [
      "audi\n",
      "bmw\n",
      "mercedes\n",
      "rollsroyce\n",
      "jaguar\n"
     ]
    }
   ],
   "source": [
    "Cars = ['Audi','BMW','Mercedes','RollsRoyce','Jaguar']\n",
    "for i in range(len(Cars)): # for loop by iterating over a list using the range function\n",
    "    print(Cars[i].lower())"
   ]
  },
  {
   "cell_type": "code",
   "execution_count": 17,
   "metadata": {},
   "outputs": [
    {
     "name": "stdout",
     "output_type": "stream",
     "text": [
      "AUDI\n",
      "BMW\n",
      "MERCEDES\n",
      "ROLLSROYCE\n",
      "JAGUAR\n"
     ]
    }
   ],
   "source": [
    "for Car in Cars:    #for loop by iterating over a list uisng a variable.\n",
    "    print(Car.upper()) "
   ]
  },
  {
   "cell_type": "code",
   "execution_count": 18,
   "metadata": {},
   "outputs": [
    {
     "name": "stdout",
     "output_type": "stream",
     "text": [
      "4\n",
      "9\n",
      "14\n",
      "19\n"
     ]
    }
   ],
   "source": [
    "for i in range(4,20,5): #for loop by iterating over a sequence using range function\n",
    "    print(i)"
   ]
  },
  {
   "cell_type": "markdown",
   "metadata": {},
   "source": [
    "# List Comprehensions"
   ]
  },
  {
   "cell_type": "code",
   "execution_count": 19,
   "metadata": {
    "collapsed": true
   },
   "outputs": [],
   "source": [
    "# This is the normal version of for loop coupled with if statement\n",
    "nums = [25,9,64,49,144,256]\n",
    "num_divby2 = [] \n",
    "for num in nums:\n",
    "    if num % 2 == 0:\n",
    "        num_divby2.append(num)\n",
    "else:\n",
    "    pass\n"
   ]
  },
  {
   "cell_type": "code",
   "execution_count": 20,
   "metadata": {},
   "outputs": [
    {
     "data": {
      "text/plain": [
       "[64, 144, 256]"
      ]
     },
     "execution_count": 20,
     "metadata": {},
     "output_type": "execute_result"
    }
   ],
   "source": [
    "num_divby2"
   ]
  },
  {
   "cell_type": "code",
   "execution_count": 21,
   "metadata": {},
   "outputs": [
    {
     "data": {
      "text/plain": [
       "[16, 100, 324]"
      ]
     },
     "execution_count": 21,
     "metadata": {},
     "output_type": "execute_result"
    }
   ],
   "source": [
    "#  This is List comprehension, an elegant way of creating lists wihout iterating through loops.\n",
    "nums = [9,16,49,100,169,324]\n",
    "num_div2 = []\n",
    "num_div2 = [num for num in nums if num % 2 == 0]\n",
    "num_div2\n",
    "\n"
   ]
  },
  {
   "cell_type": "code",
   "execution_count": 22,
   "metadata": {},
   "outputs": [
    {
     "data": {
      "text/plain": [
       "[3.0, 16, 7.0, 100, 13.0, 324]"
      ]
     },
     "execution_count": 22,
     "metadata": {},
     "output_type": "execute_result"
    }
   ],
   "source": [
    "num_div2 = [num if num%2==0 else math.sqrt(num) for num in nums]\n",
    "num_div2"
   ]
  },
  {
   "cell_type": "markdown",
   "metadata": {},
   "source": [
    "# OS interfaces"
   ]
  },
  {
   "cell_type": "code",
   "execution_count": 23,
   "metadata": {
    "collapsed": true
   },
   "outputs": [],
   "source": [
    "import os\n",
    "import tempfile"
   ]
  },
  {
   "cell_type": "code",
   "execution_count": null,
   "metadata": {},
   "outputs": [],
   "source": [
    "tmpdir = tempfile.gettempdir()\n",
    "os.listdir(tmpdir)"
   ]
  },
  {
   "cell_type": "code",
   "execution_count": 43,
   "metadata": {},
   "outputs": [
    {
     "name": "stdout",
     "output_type": "stream",
     "text": [
      "Current working directory: C:\\Users\\hp\n",
      "nt\n"
     ]
    }
   ],
   "source": [
    "print(\"Current working directory:\",os.getcwd()) #prints the current directory on which you are working\n",
    "print(os.name) #prints the name of the Operating system you are using\n",
    "os.rename('C00l.txt','CooL.txt')  # renames the file C00l to CooL."
   ]
  },
  {
   "cell_type": "code",
   "execution_count": 56,
   "metadata": {},
   "outputs": [],
   "source": [
    "Data = ['Hola mi amigo','como estas']\n",
    "\n",
    "with open(\"Cool.txt\",\"w\") as f: # opens the filename Cool in write mode and automatically closes it after the data is written. \n",
    "    for data in Data:\n",
    "        f.write(data +\"\\n\") \n",
    "    \n"
   ]
  },
  {
   "cell_type": "code",
   "execution_count": 57,
   "metadata": {
    "collapsed": true
   },
   "outputs": [],
   "source": [
    "fd = open(\"Cool.txt\",'r') # opens the file Cool.txt in read mode\n",
    "fd.readlines()            # read the entire file at a time\n",
    "fd.close()                #closes the file."
   ]
  },
  {
   "cell_type": "code",
   "execution_count": null,
   "metadata": {
    "collapsed": true
   },
   "outputs": [],
   "source": []
  }
 ],
 "metadata": {
  "kernelspec": {
   "display_name": "Python 3",
   "language": "python",
   "name": "python3"
  },
  "language_info": {
   "codemirror_mode": {
    "name": "ipython",
    "version": 3
   },
   "file_extension": ".py",
   "mimetype": "text/x-python",
   "name": "python",
   "nbconvert_exporter": "python",
   "pygments_lexer": "ipython3",
   "version": "3.6.3"
  }
 },
 "nbformat": 4,
 "nbformat_minor": 2
}
